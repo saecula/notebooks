{
  "nbformat": 4,
  "nbformat_minor": 0,
  "metadata": {
    "colab": {
      "provenance": [],
      "mount_file_id": "17OVvO3-hrWKl7TGH9en-raV1FVqHw2vQ",
      "authorship_tag": "ABX9TyNrzlJhViIijNV6JjuHI6oz",
      "include_colab_link": true
    },
    "kernelspec": {
      "name": "python3",
      "display_name": "Python 3"
    },
    "language_info": {
      "name": "python"
    }
  },
  "cells": [
    {
      "cell_type": "markdown",
      "metadata": {
        "id": "view-in-github",
        "colab_type": "text"
      },
      "source": [
        "<a href=\"https://colab.research.google.com/github/saecula/notebooks/blob/main/markets.ipynb\" target=\"_parent\"><img src=\"https://colab.research.google.com/assets/colab-badge.svg\" alt=\"Open In Colab\"/></a>"
      ]
    },
    {
      "cell_type": "code",
      "execution_count": 2,
      "metadata": {
        "id": "QxHCcfMrBRvw"
      },
      "outputs": [],
      "source": [
        "import pandas as pd;"
      ]
    },
    {
      "cell_type": "code",
      "source": [
        "df = pd.read_csv('/content/drive/Othercomputers/My MacBook Pro/Documents/manifold/markets/markets_og.csv');"
      ],
      "metadata": {
        "id": "B9AuQPGZBsdq"
      },
      "execution_count": 3,
      "outputs": []
    },
    {
      "cell_type": "code",
      "source": [
        "pd.options.display.max_columns = None\n",
        "print(df.head())"
      ],
      "metadata": {
        "colab": {
          "base_uri": "https://localhost:8080/"
        },
        "id": "OE2Ytye1CDvA",
        "outputId": "51e6e642-dac0-4d9f-95af-093b418d30f9"
      },
      "execution_count": 4,
      "outputs": [
        {
          "output_type": "stream",
          "name": "stdout",
          "text": [
            "                     id                     creatorId creatorUsername  \\\n",
            "0  EWKoMh6J9Gzb1CrQd21N  HBlWMFF8XkcatdnIfNt0RPoCrXy1           iblue   \n",
            "1  pISgmVyfKF0YZn6phHZM  HBlWMFF8XkcatdnIfNt0RPoCrXy1           iblue   \n",
            "2  J1bpRzgkCCrZabmznKJ4  zPHQcxyXADVDAp0Km9ZSYdj2ti03      CquilPromp   \n",
            "3  syOTAi1MoutyVzp7GMTH  Lo90oBP3atgQe1GtAVeLrAPcixo1      DavidSpies   \n",
            "4  TL0frhKfAI5oiuhkGaLl  cgrBqe2O3AU4Dnng7Nc9wuJHLKb2            jskf   \n",
            "\n",
            "   creatorName    createdTime  \\\n",
            "0        iblue  1691245362417   \n",
            "1        iblue  1691245249757   \n",
            "2  Cquil Promp  1691245029677   \n",
            "3  David Spies  1691245017606   \n",
            "4         jskf  1691245015722   \n",
            "\n",
            "                                    creatorAvatarUrl      closeTime  \\\n",
            "0  https://firebasestorage.googleapis.com/v0/b/ma...  1691877540000   \n",
            "1  https://firebasestorage.googleapis.com/v0/b/ma...  1691877540000   \n",
            "2  https://lh3.googleusercontent.com/a/AAcHTtduBM...  1691348400000   \n",
            "3  https://lh3.googleusercontent.com/a/AEdFTp4cHz...  2616652740000   \n",
            "4  https://firebasestorage.googleapis.com/v0/b/ma...  1692050340000   \n",
            "\n",
            "                                            question  \\\n",
            "0            Will GitHub be down on August 7th 2023?   \n",
            "1            Will GitHub be down on August 6th 2023?   \n",
            "2  Temperature in Central Park August 6th at 3:51...   \n",
            "3  Will the careful contingency handling in \"When...   \n",
            "4  Will I go to the gym on at least 3 distinct da...   \n",
            "\n",
            "                                                 url           probability  \\\n",
            "0  https://manifold.markets/iblue/will-github-be-...  0.019911503644388706   \n",
            "1  https://manifold.markets/iblue/will-github-be-...  0.020000000000000066   \n",
            "2  https://manifold.markets/CquilPromp/temperatur...   0.40983606557377067   \n",
            "3  https://manifold.markets/DavidSpies/will-the-c...   0.11582457947454268   \n",
            "4  https://manifold.markets/jskf/will-i-go-to-the...                   0.8   \n",
            "\n",
            "                     p totalLiquidity outcomeType mechanism  volume  \\\n",
            "0   0.4066189768916457            110      BINARY    cpmm-1   320.0   \n",
            "1                  0.5             50      BINARY    cpmm-1   300.0   \n",
            "2   0.4888723667073813             70      BINARY    cpmm-1    10.0   \n",
            "3  0.42590860417946974             90      BINARY    cpmm-1    90.0   \n",
            "4   0.5000000000000001             50      BINARY    cpmm-1    50.0   \n",
            "\n",
            "   volume24Hours  isResolved  lastUpdatedTime            pool_yes  \\\n",
            "0          320.0       False    1691246087165   374.4768657969451   \n",
            "1          300.0       False    1691245314405                 350   \n",
            "2           10.0       False    1691245123914   66.92416833639774   \n",
            "3           80.0       False    1691246372516   148.3571968032775   \n",
            "4           50.0       False    1691245059660  25.000000000000007   \n",
            "\n",
            "              pool_no      value        min        max isLogScale resolution  \\\n",
            "0  11.102218463748812  undefined  undefined  undefined  undefined  undefined   \n",
            "1   7.142857142857167  undefined  undefined  undefined  undefined  undefined   \n",
            "2  48.590835003064434  undefined  undefined  undefined  undefined  undefined   \n",
            "3    26.1960335154181  undefined  undefined  undefined  undefined  undefined   \n",
            "4  100.00000000000003  undefined  undefined  undefined  undefined  undefined   \n",
            "\n",
            "  resolutionTime resolutionProbability  \n",
            "0      undefined             undefined  \n",
            "1      undefined             undefined  \n",
            "2      undefined             undefined  \n",
            "3      undefined             undefined  \n",
            "4      undefined             undefined  \n"
          ]
        }
      ]
    },
    {
      "cell_type": "code",
      "source": [
        "# format\n",
        "pd.options.display.float_format = '{:.0f}'.format\n",
        "\n",
        "df['totalLiquidity'] = pd.to_numeric(df['totalLiquidity'], errors='coerce')\n",
        "df['volume'] = pd.to_numeric(df['volume'], errors='coerce')\n",
        "df['pool_yes'] = pd.to_numeric(df['pool_yes'], errors='coerce')\n",
        "df['pool_no'] = pd.to_numeric(df['pool_yes'], errors='coerce')\n",
        "\n",
        "print('info', df.info())"
      ],
      "metadata": {
        "colab": {
          "base_uri": "https://localhost:8080/"
        },
        "id": "9iv3TMDvTQgV",
        "outputId": "725f02e8-5cc2-47f2-a361-29104ad44665"
      },
      "execution_count": 48,
      "outputs": [
        {
          "output_type": "stream",
          "name": "stdout",
          "text": [
            "<class 'pandas.core.frame.DataFrame'>\n",
            "RangeIndex: 52241 entries, 0 to 52240\n",
            "Data columns (total 29 columns):\n",
            " #   Column                 Non-Null Count  Dtype         \n",
            "---  ------                 --------------  -----         \n",
            " 0   id                     52241 non-null  object        \n",
            " 1   creatorId              52241 non-null  object        \n",
            " 2   creatorUsername        52240 non-null  object        \n",
            " 3   creatorName            52241 non-null  object        \n",
            " 4   createdTime            52241 non-null  datetime64[ns]\n",
            " 5   creatorAvatarUrl       52241 non-null  object        \n",
            " 6   closeTime              52241 non-null  int64         \n",
            " 7   question               52232 non-null  object        \n",
            " 8   url                    52241 non-null  object        \n",
            " 9   probability            52241 non-null  object        \n",
            " 10  p                      52241 non-null  object        \n",
            " 11  totalLiquidity         47437 non-null  float64       \n",
            " 12  outcomeType            52241 non-null  object        \n",
            " 13  mechanism              52241 non-null  object        \n",
            " 14  volume                 31761 non-null  float64       \n",
            " 15  volume24Hours          52241 non-null  float64       \n",
            " 16  isResolved             52241 non-null  bool          \n",
            " 17  lastUpdatedTime        52241 non-null  int64         \n",
            " 18  pool_yes               47391 non-null  float64       \n",
            " 19  pool_no                47391 non-null  float64       \n",
            " 20  value                  52241 non-null  object        \n",
            " 21  min                    52241 non-null  object        \n",
            " 22  max                    52241 non-null  object        \n",
            " 23  isLogScale             52241 non-null  object        \n",
            " 24  resolution             52241 non-null  object        \n",
            " 25  resolutionTime         52241 non-null  object        \n",
            " 26  resolutionProbability  52241 non-null  object        \n",
            " 27  createdTime_seconds    52241 non-null  float64       \n",
            " 28  createdTime_bucket     52241 non-null  int64         \n",
            "dtypes: bool(1), datetime64[ns](1), float64(6), int64(3), object(18)\n",
            "memory usage: 11.2+ MB\n",
            "info None\n"
          ]
        }
      ]
    },
    {
      "cell_type": "code",
      "source": [
        "# filter\n",
        "\n",
        "# filtered_df = df[df['field'] == 'value']\n",
        "\n",
        "january_2023_to_june_2023 = df[(df['createdTime'] >= '2023-01-01') & (df['createdTime'] <= '2023-06-30')]\n",
        "outcometype_binary = january_2023_to_june_2023[january_2023_to_june_2023['outcomeType'] == 'BINARY']\n",
        "\n",
        "activity = outcometype_binary[['id', 'totalLiquidity', 'volume', 'pool_yes', 'pool_no']]\n",
        "\n",
        "\n",
        "print('stats:')\n",
        "print(activity.describe())\n",
        "\n",
        "markets = activity[activity['volume'] > 100] # caps at 999?\n",
        "\n",
        "print('active markets:')\n",
        "print(markets.describe())"
      ],
      "metadata": {
        "colab": {
          "base_uri": "https://localhost:8080/"
        },
        "id": "DNGU2CNHo0nN",
        "outputId": "3d0ee5ff-746d-4fac-eb20-88f68d65f210"
      },
      "execution_count": 66,
      "outputs": [
        {
          "output_type": "stream",
          "name": "stdout",
          "text": [
            "stats:\n",
            "       totalLiquidity  volume  pool_yes  pool_no\n",
            "count           24498   14382     24498    24498\n",
            "mean              319     256      1811     1811\n",
            "std               564     258      9538     9538\n",
            "min                50       0         0        0\n",
            "25%               110      51        86       86\n",
            "50%               190     161       205      205\n",
            "75%               330     393       597      597\n",
            "max             22006     999    329470   329470\n",
            "active markets:\n",
            "       totalLiquidity  volume  pool_yes  pool_no\n",
            "count            8889    8889      8889     8889\n",
            "mean              225     391       291      291\n",
            "std               189     245       249      249\n",
            "min                50     101         0        0\n",
            "25%               130     185       143      143\n",
            "50%               190     318       237      237\n",
            "75%               270     552       378      378\n",
            "max             10600     999     10441    10441\n"
          ]
        }
      ]
    },
    {
      "cell_type": "code",
      "source": [
        "import matplotlib.pyplot as plt\n",
        "import datetime"
      ],
      "metadata": {
        "id": "D_CFWNWiDCXh"
      },
      "execution_count": 67,
      "outputs": []
    },
    {
      "cell_type": "code",
      "source": [
        "# a date histogram showing markets by createdTime, bucketed in 30-day increments.\n",
        "\n",
        "df['createdTime'] = pd.to_datetime(df['createdTime'], unit='ms')\n",
        "df['createdTime_seconds'] = df['createdTime'].apply(lambda x: x.timestamp())\n",
        "df['createdTime_bucket'] = (df['createdTime_seconds'] // (3600*24*30)).astype(int)\n",
        "\n",
        "# Create a PeriodIndex for the x-axis to show human-readable month labels\n",
        "period_index = pd.period_range(start=df['createdTime'].min().normalize(),\n",
        "                               end=df['createdTime'].max().normalize(),\n",
        "                               freq='M')\n",
        "\n",
        "# Plot the data\n",
        "df.groupby('createdTime_bucket')['id'].count().plot(kind='bar')\n",
        "\n",
        "# Set the x-axis tick labels\n",
        "plt.xticks(range(len(period_index)), period_index.to_timestamp().strftime('%b %y'))\n",
        "\n",
        "plt.xlabel('Created Time (30-day buckets)')\n",
        "plt.ylabel('Number of Markets')\n",
        "plt.show()\n"
      ],
      "metadata": {
        "colab": {
          "base_uri": "https://localhost:8080/",
          "height": 486
        },
        "collapsed": true,
        "id": "WrgR86idDdnF",
        "outputId": "73c96c55-a84d-42d3-cddf-afe53cf49fb5"
      },
      "execution_count": 15,
      "outputs": [
        {
          "output_type": "display_data",
          "data": {
            "text/plain": [
              "<Figure size 640x480 with 1 Axes>"
            ],
            "image/png": "[encoded data removed]"
          },
          "metadata": {}
        }
      ]
    },
    {
      "cell_type": "code",
      "source": [
        "# plot distribution\n",
        "\n",
        "volume = markets['volume']\n",
        "plt.hist(volume, bins=50)\n",
        "plt.xlabel('Total Volume')\n",
        "plt.ylabel('Frequency')\n",
        "plt.show()\n"
      ],
      "metadata": {
        "colab": {
          "base_uri": "https://localhost:8080/",
          "height": 449
        },
        "collapsed": true,
        "outputId": "b58182ed-2008-4e60-98a4-c1b74607ce1c",
        "id": "XKYUFO_ROEW1"
      },
      "execution_count": 59,
      "outputs": [
        {
          "output_type": "display_data",
          "data": {
            "text/plain": [
              "<Figure size 640x480 with 1 Axes>"
            ],
            "image/png": "[encoded data removed]"
          },
          "metadata": {}
        }
      ]
    },
    {
      "cell_type": "code",
      "source": [
        "import json\n",
        "import os"
      ],
      "metadata": {
        "id": "7XFOczURmRB4"
      },
      "execution_count": 68,
      "outputs": []
    },
    {
      "cell_type": "code",
      "source": [
        "json_dir = '/content/drive/Othercomputers/My MacBook Pro/Documents/manifold/bets'\n",
        "\n",
        "market_ids = markets['id'].tolist()\n",
        "\n",
        "columns_to_include = ['id', 'createdTime', 'userId', 'contractId', 'amount', 'shares', 'outcome', 'visibility', 'isFilled', 'isCancelled', 'isChallenge', 'orderAmount', 'probBefore', 'probAfter']\n",
        "\n",
        "def load_bets_from_json(file_path, ids):\n",
        "    with open(file_path, 'r') as f:\n",
        "        bets_json = json.load(f)\n",
        "\n",
        "    # print first bet\n",
        "    print('new file, first bet:')\n",
        "    print(bets_json[0])\n",
        "\n",
        "    df_raw = pd.DataFrame(bets_json)\n",
        "\n",
        "    print(df_raw.columns)\n",
        "\n",
        "    df_bets = df_raw[columns_to_include]\n",
        "    df_market_filtered = df_bets[df_bets['contractId'].isin(ids)]\n",
        "    return df_market_filtered\n",
        "\n",
        "# load files that end with json and contain string '2023'\n",
        "bets_dfs = []\n",
        "for file in os.listdir(json_dir):\n",
        "    if file.endswith('.json') and '2023' in file:\n",
        "        file_path = os.path.join(json_dir, file)\n",
        "        bets_df = load_bets_from_json(file_path, market_ids)\n",
        "        bets_dfs.append(bets_df)\n",
        "\n",
        "bets_df = pd.concat(bets_dfs, ignore_index=True)"
      ],
      "metadata": {
        "colab": {
          "base_uri": "https://localhost:8080/"
        },
        "collapsed": true,
        "id": "KRaz7QZFms9Y",
        "outputId": "b8a616ce-51a3-42de-c71d-5a7beb4c214e"
      },
      "execution_count": 79,
      "outputs": [
        {
          "output_type": "stream",
          "name": "stdout",
          "text": [
            "new file, first bet:\n",
            "{'id': 'KDkdCh7q3mp9NDHyRCkW', 'fees': {'creatorFee': 0, 'platformFee': 0, 'liquidityFee': 0}, 'fills': [{'amount': 15.368347602283931, 'shares': 31.668056399014972, 'timestamp': 1690854229511, 'matchedBetId': None}], 'isApi': True, 'amount': 15.368347602283931, 'isAnte': False, 'shares': 31.668056399014972, 'userId': 'BhNkw088bMNwIFF2Aq5Gg9NTPzz1', 'outcome': 'YES', 'isFilled': False, 'userName': 'Acceleration', 'limitProb': 0.49, 'probAfter': 0.48999999999999994, 'contractId': 'YBnsUM8iAs3DTyyLqpcZ', 'loanAmount': 0, 'probBefore': 0.48058993432878344, 'visibility': 'public', 'createdTime': 1690854229511, 'isCancelled': True, 'isChallenge': False, 'orderAmount': 100, 'isRedemption': False, 'userUsername': 'acc', 'userAvatarUrl': 'https://firebasestorage.googleapis.com/v0/b/mantic-markets.appspot.com/o/user-images%2FAccelerationBot%2FtGI0YIHNo5.44?alt=media&token=b4b3edf9-839c-4f1f-941e-82b308eedd5e'}\n",
            "Index(['id', 'fees', 'fills', 'isApi', 'amount', 'isAnte', 'shares', 'userId',\n",
            "       'outcome', 'isFilled', 'userName', 'limitProb', 'probAfter',\n",
            "       'contractId', 'loanAmount', 'probBefore', 'visibility', 'createdTime',\n",
            "       'isCancelled', 'isChallenge', 'orderAmount', 'isRedemption',\n",
            "       'userUsername', 'userAvatarUrl', 'answerId', 'expiresAt', 'sale',\n",
            "       'isSold'],\n",
            "      dtype='object')\n",
            "new file, first bet:\n",
            "{'id': '4rJDknkKpl0elnS6xRkX', 'fees': {'creatorFee': 0, 'platformFee': 0, 'liquidityFee': 0}, 'fills': [{'amount': 10, 'shares': 12.943830482651663, 'timestamp': 1690580747441, 'matchedBetId': None}], 'isApi': True, 'amount': 10, 'isAnte': False, 'shares': 12.943830482651663, 'userId': 'kzjQhRJ4GINn5umiq2ee1QvaMcE2', 'outcome': 'NO', 'isFilled': True, 'userName': 'Veat', 'expiresAt': 1690580756765, 'limitProb': 0.22, 'probAfter': 0.22488575661791033, 'contractId': 'DZPSvEW40ZosS1YxtOra', 'loanAmount': 0, 'probBefore': 0.23, 'visibility': 'public', 'createdTime': 1690580747442, 'isCancelled': True, 'isChallenge': False, 'orderAmount': 10, 'isRedemption': False, 'userUsername': 'veat', 'userAvatarUrl': 'https://firebasestorage.googleapis.com/v0/b/mantic-markets.appspot.com/o/user-images%2Fveat%2FEZJc-KTGYD.png?alt=media&token=eb333d11-328c-4612-accf-129dd36a4877'}\n",
            "Index(['id', 'fees', 'fills', 'isApi', 'amount', 'isAnte', 'shares', 'userId',\n",
            "       'outcome', 'isFilled', 'userName', 'expiresAt', 'limitProb',\n",
            "       'probAfter', 'contractId', 'loanAmount', 'probBefore', 'visibility',\n",
            "       'createdTime', 'isCancelled', 'isChallenge', 'orderAmount',\n",
            "       'isRedemption', 'userUsername', 'userAvatarUrl', 'answerId', 'sale',\n",
            "       'isSold'],\n",
            "      dtype='object')\n",
            "new file, first bet:\n",
            "{'id': 'wzVTP3fH0VLznsjHdPS6', 'fees': {'creatorFee': 0, 'platformFee': 0, 'liquidityFee': 0}, 'amount': -15.004693015018447, 'isAnte': False, 'shares': -15.635172260272174, 'userId': 'Izv38ocxK9NbkIJNnGIM2Ugazvk2', 'outcome': 'NO', 'answerId': '7ecb7f932afd', 'probAfter': 0.040324419504844757, 'contractId': 'VPVaHZ3S3P0uh33nZYYD', 'loanAmount': 0, 'probBefore': 0.040324419504844757, 'visibility': 'public', 'createdTime': 1690317479714, 'isChallenge': False, 'isRedemption': True}\n",
            "Index(['id', 'fees', 'amount', 'isAnte', 'shares', 'userId', 'outcome',\n",
            "       'answerId', 'probAfter', 'contractId', 'loanAmount', 'probBefore',\n",
            "       'visibility', 'createdTime', 'isChallenge', 'isRedemption', 'fills',\n",
            "       'isApi', 'isFilled', 'userName', 'isCancelled', 'orderAmount',\n",
            "       'userUsername', 'userAvatarUrl', 'limitProb', 'expiresAt', 'sale',\n",
            "       'isSold'],\n",
            "      dtype='object')\n",
            "new file, first bet:\n",
            "{'id': '5d89patYSGWT3KcZzXmg', 'fees': {'creatorFee': 0, 'platformFee': 0, 'liquidityFee': 0}, 'fills': [{'amount': 1018, 'shares': 1244.545078834645, 'timestamp': 1690033946963, 'matchedBetId': None}], 'isApi': False, 'amount': 1018, 'isAnte': False, 'shares': 1244.545078834645, 'userId': 'zgCIqq8AmRUYVu6AdQ9vVEJN8On1', 'outcome': 'YES', 'isFilled': True, 'userName': 'firstuserhere', 'limitProb': 0.85, 'probAfter': 0.8499512480104867, 'contractId': 'MCgukDx7QRzehF2uoy8k', 'loanAmount': 0, 'probBefore': 0.78, 'visibility': 'public', 'createdTime': 1690033946963, 'isCancelled': False, 'isChallenge': False, 'orderAmount': 1018, 'isRedemption': False, 'userUsername': 'firstuserhere', 'userAvatarUrl': 'https://firebasestorage.googleapis.com/v0/b/mantic-markets.appspot.com/o/user-images%2Ffirstuserhere%2F6THcOj7ZGs.jpg?alt=media&token=fe77116c-ac38-465d-895d-fad189d786d0'}\n",
            "Index(['id', 'fees', 'fills', 'isApi', 'amount', 'isAnte', 'shares', 'userId',\n",
            "       'outcome', 'isFilled', 'userName', 'limitProb', 'probAfter',\n",
            "       'contractId', 'loanAmount', 'probBefore', 'visibility', 'createdTime',\n",
            "       'isCancelled', 'isChallenge', 'orderAmount', 'isRedemption',\n",
            "       'userUsername', 'userAvatarUrl', 'answerId', 'expiresAt', 'isSold',\n",
            "       'sale'],\n",
            "      dtype='object')\n",
            "new file, first bet:\n",
            "{'id': 'VesdX4S1MfovJ5fhvJdQ', 'fees': {'creatorFee': 0, 'platformFee': 0, 'liquidityFee': 0}, 'fills': [{'amount': 59.198624613124, 'shares': 111.95286479588833, 'timestamp': 1689559781830, 'matchedBetId': None}], 'isApi': True, 'amount': 59.198624613124, 'isAnte': False, 'shares': 111.95286479588833, 'userId': 'BhNkw088bMNwIFF2Aq5Gg9NTPzz1', 'outcome': 'NO', 'isFilled': False, 'userName': 'Acceleration', 'limitProb': 0.45, 'probAfter': 0.45000000000000007, 'contractId': 'SRtyUYfP0KIS8frjJisl', 'loanAmount': 107.16406352549063, 'probBefore': 0.4926148051447663, 'visibility': 'public', 'createdTime': 1689559781830, 'isCancelled': True, 'isChallenge': False, 'orderAmount': 100, 'isRedemption': False, 'userUsername': 'acc', 'userAvatarUrl': 'https://firebasestorage.googleapis.com/v0/b/mantic-markets.appspot.com/o/user-images%2FAccelerationBot%2FtGI0YIHNo5.44?alt=media&token=b4b3edf9-839c-4f1f-941e-82b308eedd5e'}\n",
            "Index(['id', 'fees', 'fills', 'isApi', 'amount', 'isAnte', 'shares', 'userId',\n",
            "       'outcome', 'isFilled', 'userName', 'limitProb', 'probAfter',\n",
            "       'contractId', 'loanAmount', 'probBefore', 'visibility', 'createdTime',\n",
            "       'isCancelled', 'isChallenge', 'orderAmount', 'isRedemption',\n",
            "       'userUsername', 'userAvatarUrl', 'answerId', 'expiresAt', 'isSold',\n",
            "       'sale'],\n",
            "      dtype='object')\n",
            "new file, first bet:\n",
            "{'id': '7Cuuf9PhPjfimFmoenoO', 'fees': {'creatorFee': 0, 'platformFee': 0, 'liquidityFee': 0}, 'fills': [{'amount': 50, 'shares': 93.0514781871675, 'timestamp': 1689018208734, 'matchedBetId': None}], 'isApi': False, 'amount': 50, 'isAnte': False, 'shares': 93.0514781871675, 'userId': 'ESlPoo5zmAN4Uz4ImFDy9Fq2DeI3', 'outcome': 'NO', 'isFilled': True, 'userName': 'ForecasterBot', 'probAfter': 0.4540421809114757, 'contractId': 'JxcpJTGSurSdSMlFxYhL', 'loanAmount': 19.826763511055155, 'probBefore': 0.47135525436315867, 'visibility': 'public', 'createdTime': 1689018208734, 'isCancelled': False, 'isChallenge': False, 'orderAmount': 50, 'isRedemption': False, 'userUsername': 'ForecasterBot', 'userAvatarUrl': 'https://lh3.googleusercontent.com/a/ALm5wu38Dv0_TbQQT1w4AFHPFhSph-wkCyaWp5IChkgN=s96-c'}\n",
            "Index(['id', 'fees', 'fills', 'isApi', 'amount', 'isAnte', 'shares', 'userId',\n",
            "       'outcome', 'isFilled', 'userName', 'probAfter', 'contractId',\n",
            "       'loanAmount', 'probBefore', 'visibility', 'createdTime', 'isCancelled',\n",
            "       'isChallenge', 'orderAmount', 'isRedemption', 'userUsername',\n",
            "       'userAvatarUrl', 'limitProb', 'answerId', 'isSold', 'expiresAt',\n",
            "       'sale'],\n",
            "      dtype='object')\n",
            "new file, first bet:\n",
            "{'id': 'S5Q6TcKq4njTw2EEk4rl', 'fees': {'creatorFee': 0, 'platformFee': 0, 'liquidityFee': 0}, 'amount': -47.204098161735416, 'isAnte': False, 'shares': -288.6337127271769, 'userId': 'BhNkw088bMNwIFF2Aq5Gg9NTPzz1', 'outcome': 'YES', 'answerId': 'undefined', 'probAfter': 0.16354325943329356, 'contractId': 'N0dixxyO0MDx3MeJmyU3', 'loanAmount': -11.903500203521068, 'probBefore': 0.16354325943329356, 'visibility': 'public', 'createdTime': 1688564593983, 'isChallenge': False, 'isRedemption': True}\n",
            "Index(['id', 'fees', 'amount', 'isAnte', 'shares', 'userId', 'outcome',\n",
            "       'answerId', 'probAfter', 'contractId', 'loanAmount', 'probBefore',\n",
            "       'visibility', 'createdTime', 'isChallenge', 'isRedemption', 'fills',\n",
            "       'isApi', 'isFilled', 'userName', 'limitProb', 'isCancelled',\n",
            "       'orderAmount', 'userUsername', 'userAvatarUrl', 'expiresAt', 'sale',\n",
            "       'isSold'],\n",
            "      dtype='object')\n",
            "new file, first bet:\n",
            "{'id': '0kIdZC6eqMryrCUbk3ET', 'fees': {'creatorFee': 0, 'platformFee': 0, 'liquidityFee': 0}, 'fills': [{'amount': 50, 'shares': 56.86873729273111, 'timestamp': 1688173379855, 'matchedBetId': None}], 'isApi': False, 'amount': 50, 'isAnte': False, 'shares': 56.86873729273111, 'userId': '48euDs2YINYddh7tKEhclBduHv42', 'outcome': 'NO', 'isFilled': True, 'userName': 'Evan Þ', 'probAfter': 0.11502861646001789, 'contractId': 'HLBtOjCnPAYGwnZOirti', 'loanAmount': 25.346268969096084, 'probBefore': 0.12682925594616096, 'visibility': 'public', 'createdTime': 1688173379855, 'isCancelled': False, 'isChallenge': False, 'orderAmount': 50, 'isRedemption': False, 'userUsername': 'EvanTh', 'userAvatarUrl': 'https://firebasestorage.googleapis.com/v0/b/mantic-markets.appspot.com/o/user-images%2FEvanTh%2FVCXay5qEKT.png?alt=media&token=54a5ac97-a739-4385-8aa6-315bda828a15'}\n",
            "Index(['id', 'fees', 'fills', 'isApi', 'amount', 'isAnte', 'shares', 'userId',\n",
            "       'outcome', 'isFilled', 'userName', 'probAfter', 'contractId',\n",
            "       'loanAmount', 'probBefore', 'visibility', 'createdTime', 'isCancelled',\n",
            "       'isChallenge', 'orderAmount', 'isRedemption', 'userUsername',\n",
            "       'userAvatarUrl', 'answerId', 'limitProb', 'expiresAt', 'sale',\n",
            "       'isSold'],\n",
            "      dtype='object')\n",
            "new file, first bet:\n",
            "{'id': 'giR3HJJDVQwUogo7Gvin', 'fees': {'creatorFee': 0, 'platformFee': 0, 'liquidityFee': 0}, 'amount': -3.74647905407739, 'isAnte': False, 'shares': -187.32395270386934, 'userId': 'BhNkw088bMNwIFF2Aq5Gg9NTPzz1', 'outcome': 'NO', 'answerId': 'undefined', 'probAfter': 0.98, 'contractId': 'NwdoErYrsLyeg7jc1oSa', 'loanAmount': -18.588488022356763, 'probBefore': 0.98, 'visibility': 'public', 'createdTime': 1687604413997, 'isChallenge': False, 'isRedemption': True}\n",
            "Index(['id', 'fees', 'amount', 'isAnte', 'shares', 'userId', 'outcome',\n",
            "       'answerId', 'probAfter', 'contractId', 'loanAmount', 'probBefore',\n",
            "       'visibility', 'createdTime', 'isChallenge', 'isRedemption', 'fills',\n",
            "       'isApi', 'isFilled', 'userName', 'limitProb', 'isCancelled',\n",
            "       'orderAmount', 'userUsername', 'userAvatarUrl', 'expiresAt', 'isSold',\n",
            "       'sale', 'value', 'allBetAmounts', 'allOutcomeShares'],\n",
            "      dtype='object')\n",
            "new file, first bet:\n",
            "{'id': 'lmZMif4egyRatUrySL5W', 'fees': {'creatorFee': 0, 'platformFee': 0, 'liquidityFee': 0}, 'fills': [], 'isApi': False, 'amount': 0, 'isAnte': False, 'shares': 0, 'userId': '9CaU0t9MS8f5chVZYX3F08t9ELc2', 'outcome': 'NO', 'isFilled': False, 'userName': 'Fedor', 'limitProb': 0.7, 'probAfter': 0.5148086394800568, 'contractId': '5BirOwTEH8wv9KjfORVW', 'loanAmount': 0, 'probBefore': 0.5148086394800568, 'visibility': 'public', 'createdTime': 1687025224331, 'isCancelled': False, 'isChallenge': False, 'orderAmount': 49.99999999999999, 'isRedemption': False, 'userUsername': 'Fedor', 'userAvatarUrl': 'https://firebasestorage.googleapis.com/v0/b/mantic-markets.appspot.com/o/user-images%2FFedorBeets%2FJH8aGj4NSH.jpg?alt=media&token=4ef3463a-ffc2-47b4-9d6d-1b2c6bbfbc21'}\n",
            "Index(['id', 'fees', 'fills', 'isApi', 'amount', 'isAnte', 'shares', 'userId',\n",
            "       'outcome', 'isFilled', 'userName', 'limitProb', 'probAfter',\n",
            "       'contractId', 'loanAmount', 'probBefore', 'visibility', 'createdTime',\n",
            "       'isCancelled', 'isChallenge', 'orderAmount', 'isRedemption',\n",
            "       'userUsername', 'userAvatarUrl', 'answerId', 'expiresAt', 'sale',\n",
            "       'isSold', 'value', 'allBetAmounts', 'allOutcomeShares'],\n",
            "      dtype='object')\n",
            "new file, first bet:\n",
            "{'id': 'G5ZAvcRAvZ4GLcVd8lgV', 'fees': {'creatorFee': 0, 'platformFee': 0, 'liquidityFee': 0}, 'fills': [{'amount': 264.1036462771577, 'shares': 3263.7386555686935, 'timestamp': 1686341995732, 'matchedBetId': None}, {'amount': 28.82787167855361, 'shares': 192.1858111903574, 'timestamp': 1686341995732, 'matchedBetId': 'C5w1PiLgKaDd4C13oMJx'}, {'amount': 33.72166898154225, 'shares': 211.21145776767435, 'timestamp': 1686341995732, 'matchedBetId': None}, {'amount': 3.0722891566265065, 'shares': 18.072289156626507, 'timestamp': 1686341995732, 'matchedBetId': 'cMnLwMyGmB3MdYX6BIEk'}, {'amount': 46.267560062270114, 'shares': 250.97469066203462, 'timestamp': 1686341995732, 'matchedBetId': None}, {'amount': 0.15482252088327186, 'shares': 0.7741126044163593, 'timestamp': 1686341995732, 'matchedBetId': 'jzyaL5gx63OLzFphw57c'}, {'amount': 55.94254940537097, 'shares': 255.36604716850547, 'timestamp': 1686341995732, 'matchedBetId': None}, {'amount': 64.9941418703872, 'shares': 270.80892445994664, 'timestamp': 1686341995732, 'matchedBetId': 'F4wxzGUVcB2kX1SHwNce'}, {'amount': 13.217597602815879, 'shares': 53.96050255296893, 'timestamp': 1686341995732, 'matchedBetId': None}, {'amount': 0.3333333333333333, 'shares': 1.3333333333333333, 'timestamp': 1686341995732, 'matchedBetId': '4z4V90svM838EWm4e5nJ'}, {'amount': 223.97836339849937, 'shares': 671.2418567786535, 'timestamp': 1686341995732, 'matchedBetId': None}, {'amount': 47.14285714285714, 'shares': 107.14285714285714, 'timestamp': 1686341995732, 'matchedBetId': 'rFiAv9YPV6dcPmltR1C5'}, {'amount': 11.276222448193634, 'shares': 25.340826851897077, 'timestamp': 1686341995732, 'matchedBetId': None}, {'amount': 45.396557073074604, 'shares': 96.63755426502593, 'timestamp': 1686341995732, 'matchedBetId': None}, {'amount': 480.3921568627451, 'shares': 980.3921568627451, 'timestamp': 1686341995732, 'matchedBetId': 'hzurhmoIyeiQsP7EguKY'}, {'amount': 11.467919096354914, 'shares': 23.16809221819784, 'timestamp': 1686341995732, 'matchedBetId': None}, {'amount': 50, 'shares': 100, 'timestamp': 1686341995732, 'matchedBetId': 'S1Cjf153jVe6U4RTVT1s'}, {'amount': 58.53172397271877, 'shares': 111.53892971628215, 'timestamp': 1686341995732, 'matchedBetId': None}, {'amount': 30.555555555555564, 'shares': 55.555555555555564, 'timestamp': 1686341995732, 'matchedBetId': 'U7h7wLmqcIbIe7rkbm6T'}, {'amount': 61.50427680982068, 'shares': 106.9847330754285, 'timestamp': 1686341995732, 'matchedBetId': None}, {'amount': 75, 'shares': 125, 'timestamp': 1686341995732, 'matchedBetId': '1LnhJEdgO35oaKwexf0U'}, {'amount': 113.0957367447769, 'shares': 188.49289457462817, 'timestamp': 1686341995732, 'matchedBetId': 'C9RdKFBBRNCxmvNRas9Q'}, {'amount': 75, 'shares': 125, 'timestamp': 1686341995732, 'matchedBetId': 'dIEtu9eViPF3NBrN1CV7'}, {'amount': 66.1028069546179, 'shares': 105.76156666847356, 'timestamp': 1686341995732, 'matchedBetId': None}, {'amount': 28.198409226178256, 'shares': 42.72366884582246, 'timestamp': 1686341995732, 'matchedBetId': None}, {'amount': 60.90909090909092, 'shares': 90.90909090909092, 'timestamp': 1686341995732, 'matchedBetId': 'NsCTc1hMzqM65IdRNIBI'}, {'amount': 14.560391593463075, 'shares': 21.570745299610905, 'timestamp': 1686341995732, 'matchedBetId': None}, {'amount': 106.25000000000003, 'shares': 156.25000000000003, 'timestamp': 1686341995732, 'matchedBetId': 'HrNQZwGTt07H014AKxrj'}, {'amount': 425.0000000000001, 'shares': 625.0000000000001, 'timestamp': 1686341995732, 'matchedBetId': 'ZdjzvMmSmnwgDH80lauI'}, {'amount': 10.625000000000002, 'shares': 15.625000000000002, 'timestamp': 1686341995732, 'matchedBetId': 'mM8U8RP9Bri2Yg5Ve2QV'}, {'amount': 892.5000000000002, 'shares': 1312.5000000000002, 'timestamp': 1686341995732, 'matchedBetId': 'PtzHiPuTCvMAgjB1YhI2'}, {'amount': 14.90169443468417, 'shares': 21.754054309286914, 'timestamp': 1686341995732, 'matchedBetId': None}, {'amount': 586.9757568884285, 'shares': 850.6895027368529, 'timestamp': 1686341995732, 'matchedBetId': 'uA2DrAoGYbRFHcjZMQ6U'}], 'isApi': False, 'amount': 4000.0000000000005, 'isAnte': False, 'shares': 10477.704910274966, 'userId': 'p1mZyMaWBSPHwgVcv6RVa4z8vWT2', 'outcome': 'YES', 'isFilled': True, 'userName': 'Tor Barstad', 'limitProb': 0.69, 'probAfter': 0.6899999999999994, 'contractId': 'kxAt2nsItxE9lREC6L3p', 'loanAmount': 0, 'probBefore': 0.046216111488029496, 'visibility': 'public', 'createdTime': 1686341995732, 'isCancelled': False, 'isChallenge': False, 'orderAmount': 4000, 'isRedemption': False, 'userUsername': 'TorBarstad', 'userAvatarUrl': 'https://lh3.googleusercontent.com/a/AGNmyxYh7ZDl57doQk4gPQ32WuRkHvRAh8n-OZIbnCbqlg=s96-c'}\n",
            "Index(['id', 'fees', 'fills', 'isApi', 'amount', 'isAnte', 'shares', 'userId',\n",
            "       'outcome', 'isFilled', 'userName', 'limitProb', 'probAfter',\n",
            "       'contractId', 'loanAmount', 'probBefore', 'visibility', 'createdTime',\n",
            "       'isCancelled', 'isChallenge', 'orderAmount', 'isRedemption',\n",
            "       'userUsername', 'userAvatarUrl', 'isSold', 'sale', 'expiresAt'],\n",
            "      dtype='object')\n",
            "new file, first bet:\n",
            "{'id': 'Yjs53oHRCIGSUSXxPOGe', 'fees': {'creatorFee': 0, 'platformFee': 0, 'liquidityFee': 0}, 'fills': [{'amount': 600, 'shares': 611.5948654997345, 'timestamp': 1685567177042, 'matchedBetId': None}], 'isApi': False, 'amount': 600, 'isAnte': False, 'shares': 611.5948654997345, 'userId': 'DOcnvnHZFHP7gQVlocXk2rHiRC83', 'outcome': 'NO', 'isFilled': True, 'userName': 'Nikita Skovoroda', 'probAfter': 0.015217945265355266, 'contractId': 'mRPSglRPed5UgwHloXML', 'loanAmount': 0, 'probBefore': 0.02381145150760759, 'visibility': 'public', 'createdTime': 1685567177042, 'isCancelled': False, 'isChallenge': False, 'orderAmount': 600, 'isRedemption': False, 'userUsername': 'NikitaSkovoroda', 'userAvatarUrl': 'https://firebasestorage.googleapis.com/v0/b/mantic-markets.appspot.com/o/user-images%2FNikitaSkovoroda%2FISVU2w9SlV.png?alt=media&token=bc4a7b2b-9b42-4ba9-a5c5-3c1e5efaf0f8'}\n",
            "Index(['id', 'fees', 'fills', 'isApi', 'amount', 'isAnte', 'shares', 'userId',\n",
            "       'outcome', 'isFilled', 'userName', 'probAfter', 'contractId',\n",
            "       'loanAmount', 'probBefore', 'visibility', 'createdTime', 'isCancelled',\n",
            "       'isChallenge', 'orderAmount', 'isRedemption', 'userUsername',\n",
            "       'userAvatarUrl', 'limitProb', 'expiresAt', 'isSold', 'sale'],\n",
            "      dtype='object')\n",
            "new file, first bet:\n",
            "{'id': 'MOaANPJ612T9gRQ03YUl', 'fees': {'creatorFee': 0, 'platformFee': 0, 'liquidityFee': 0}, 'fills': [{'amount': -172.54486510120506, 'isSale': True, 'shares': -215.01306136705375, 'timestamp': 1684790506551, 'matchedBetId': None}], 'isApi': False, 'amount': -172.54486510120506, 'isAnte': False, 'shares': -215.01306136705375, 'userId': 'wNyXSaVc7hRkfMXeBMNVTPkJiKf2', 'outcome': 'YES', 'isFilled': True, 'userName': 'Renz', 'probAfter': 0.7608976445779662, 'contractId': 'nNHwWn3BltSUZrX9LLgX', 'loanAmount': -37.20542733697577, 'probBefore': 0.8373847782037098, 'visibility': 'public', 'createdTime': 1684790506551, 'isCancelled': False, 'isChallenge': False, 'orderAmount': -172.54486510120506, 'isRedemption': False, 'userUsername': 'Renz', 'userAvatarUrl': 'https://firebasestorage.googleapis.com/v0/b/mantic-markets.appspot.com/o/user-images%2FRenzGG%2Fb4HJ8hIqnO.jpg?alt=media&token=312e5ced-e149-4447-9932-38c987368cab'}\n",
            "Index(['id', 'fees', 'fills', 'isApi', 'amount', 'isAnte', 'shares', 'userId',\n",
            "       'outcome', 'isFilled', 'userName', 'probAfter', 'contractId',\n",
            "       'loanAmount', 'probBefore', 'visibility', 'createdTime', 'isCancelled',\n",
            "       'isChallenge', 'orderAmount', 'isRedemption', 'userUsername',\n",
            "       'userAvatarUrl', 'limitProb', 'expiresAt', 'sale', 'isSold',\n",
            "       'sharesByOutcome'],\n",
            "      dtype='object')\n",
            "new file, first bet:\n",
            "{'id': '0lgMZFk4bIhZyvpMMxMJ', 'fees': {'creatorFee': 0, 'platformFee': 0, 'liquidityFee': 0}, 'fills': [{'amount': 76.92551002319539, 'shares': 126.10739348064818, 'timestamp': 1684369741487, 'matchedBetId': 'gX6c84gAK3BeCIvWU10h'}, {'amount': 29.821405916717396, 'shares': 48.887550683143274, 'timestamp': 1684369782371, 'matchedBetId': 'cQV5UWLFnL0ynXX2hCjF'}, {'amount': 393.2530840600872, 'shares': 644.6771869837495, 'timestamp': 1684370577558, 'matchedBetId': 've5gMFAEbhCz9G64v0N6'}], 'amount': 500, 'isAnte': False, 'shares': 819.672131147541, 'userId': 'ZB5wm6TsZbfYNWOoAWIjDpzjEz72', 'outcome': 'YES', 'isFilled': True, 'userName': 'Mira', 'limitProb': 0.61, 'probAfter': 0.6105523621710461, 'contractId': '5ssg7ccYrrsEwZLYh9tP', 'loanAmount': 0, 'probBefore': 0.6105523621710461, 'visibility': 'public', 'createdTime': 1684369460739, 'isCancelled': False, 'isChallenge': False, 'orderAmount': 500, 'isRedemption': False, 'userUsername': 'Mira', 'userAvatarUrl': 'https://firebasestorage.googleapis.com/v0/b/mantic-markets.appspot.com/o/user-images%2FMira%2FLwPJvA8ly6.webp?alt=media&token=4dd35977-b5f6-4369-a6a0-9892dd6077c6'}\n",
            "Index(['id', 'fees', 'fills', 'amount', 'isAnte', 'shares', 'userId',\n",
            "       'outcome', 'isFilled', 'userName', 'limitProb', 'probAfter',\n",
            "       'contractId', 'loanAmount', 'probBefore', 'visibility', 'createdTime',\n",
            "       'isCancelled', 'isChallenge', 'orderAmount', 'isRedemption',\n",
            "       'userUsername', 'userAvatarUrl', 'isSold', 'expiresAt', 'sale',\n",
            "       'sharesByOutcome'],\n",
            "      dtype='object')\n",
            "new file, first bet:\n",
            "{'id': 'kLuSntGoK6x83oZajCK1', 'fees': {'creatorFee': 0, 'platformFee': 0, 'liquidityFee': 0}, 'fills': [], 'amount': 0, 'isAnte': False, 'shares': 0, 'userId': 'sbeStmGsSKehLyVHwZDUTcAXtme2', 'outcome': 'NO', 'isFilled': False, 'userName': 'howtodowtle', 'limitProb': 0.91, 'probAfter': 0.91, 'contractId': 'Z7gmcmOujRkwtP85uoUg', 'loanAmount': 0, 'probBefore': 0.91, 'visibility': 'public', 'createdTime': 1683792522802, 'isCancelled': True, 'isChallenge': False, 'orderAmount': 21, 'isRedemption': False, 'userUsername': 'howtodowtle', 'userAvatarUrl': 'https://firebasestorage.googleapis.com/v0/b/mantic-markets.appspot.com/o/user-images%2FAJDautel%2Ftumblr_m5iokaNFOF1rtaoj3o1_500.jpg?alt=media&token=df8ac67f-8645-4f46-8b11-2cb01c3ab380'}\n",
            "Index(['id', 'fees', 'fills', 'amount', 'isAnte', 'shares', 'userId',\n",
            "       'outcome', 'isFilled', 'userName', 'limitProb', 'probAfter',\n",
            "       'contractId', 'loanAmount', 'probBefore', 'visibility', 'createdTime',\n",
            "       'isCancelled', 'isChallenge', 'orderAmount', 'isRedemption',\n",
            "       'userUsername', 'userAvatarUrl', 'sale', 'expiresAt', 'isSold',\n",
            "       'sharesByOutcome'],\n",
            "      dtype='object')\n",
            "new file, first bet:\n",
            "{'id': 'cAlAlZRoWyD7KxRjnPQk', 'fees': {'creatorFee': 0, 'platformFee': 0, 'liquidityFee': 0}, 'fills': [{'amount': 4, 'shares': 4.474393711900461, 'timestamp': 1683041870778, 'matchedBetId': None}], 'amount': 4, 'isAnte': False, 'shares': 4.474393711900461, 'userId': 'ciokiTnRxoQV2HJikVjwTmc7ul23', 'outcome': 'NO', 'isFilled': True, 'userName': 'NiciusBot', 'probAfter': 0.10568417675118194, 'contractId': 'qy4Pujoc7k2G03cb7Vnh', 'loanAmount': 0, 'probBefore': 0.10636537387014836, 'visibility': 'public', 'createdTime': 1683041870778, 'isCancelled': False, 'isChallenge': False, 'orderAmount': 4, 'isRedemption': False, 'userUsername': 'NiciusBot', 'userAvatarUrl': 'https://lh3.googleusercontent.com/a/AGNmyxbS3c0onIyDLa9-COM-gX8mQYkszmi7VSiZcX2bow=s96-c'}\n",
            "Index(['id', 'fees', 'fills', 'amount', 'isAnte', 'shares', 'userId',\n",
            "       'outcome', 'isFilled', 'userName', 'probAfter', 'contractId',\n",
            "       'loanAmount', 'probBefore', 'visibility', 'createdTime', 'isCancelled',\n",
            "       'isChallenge', 'orderAmount', 'isRedemption', 'userUsername',\n",
            "       'userAvatarUrl', 'limitProb', 'isSold', 'sale', 'expiresAt',\n",
            "       'sharesByOutcome'],\n",
            "      dtype='object')\n",
            "new file, first bet:\n",
            "{'id': 'yqeVzuj7CP4GAul76Lbd', 'fees': {'creatorFee': 0, 'platformFee': 0, 'liquidityFee': 0}, 'fills': [{'amount': -97.45485678001288, 'isSale': True, 'shares': -100.00000000000091, 'timestamp': 1682403057570, 'matchedBetId': None}], 'amount': -97.45485678001288, 'isAnte': False, 'shares': -100.00000000000091, 'userId': 'eAB6KSR3CTgm9eM2HL1CEkonnAp1', 'outcome': 'NO', 'isFilled': True, 'userName': 'A', 'probAfter': 0.026201424275807583, 'contractId': 'H9PJmPZA6LIQPbWucY45', 'loanAmount': -13.26324039298765, 'probBefore': 0.024727247978932488, 'visibility': 'public', 'createdTime': 1682403057571, 'isCancelled': False, 'isChallenge': False, 'orderAmount': -97.45485678001288, 'isRedemption': False, 'userUsername': 'A', 'userAvatarUrl': 'https://firebasestorage.googleapis.com/v0/b/mantic-markets.appspot.com/o/user-images%2FAlan%2Fhexagon.png?alt=media&token=3b2e69be-a15c-4221-a471-35991290f170'}\n",
            "Index(['id', 'fees', 'fills', 'amount', 'isAnte', 'shares', 'userId',\n",
            "       'outcome', 'isFilled', 'userName', 'probAfter', 'contractId',\n",
            "       'loanAmount', 'probBefore', 'visibility', 'createdTime', 'isCancelled',\n",
            "       'isChallenge', 'orderAmount', 'isRedemption', 'userUsername',\n",
            "       'userAvatarUrl', 'expiresAt', 'limitProb', 'isSold', 'sale',\n",
            "       'sharesByOutcome'],\n",
            "      dtype='object')\n",
            "new file, first bet:\n",
            "{'id': 'V512XBUoF4rRPMBlleSp', 'fees': {'creatorFee': 0, 'platformFee': 0, 'liquidityFee': 0}, 'fills': [{'amount': 30, 'shares': 59.20819044367386, 'timestamp': 1681668739482, 'matchedBetId': None}], 'amount': 30, 'isAnte': False, 'shares': 59.20819044367386, 'userId': 'JVuUPkMeNJXEgBbaW2vZm0u9qvI2', 'outcome': 'NO', 'isFilled': True, 'userName': 'HMYS', 'probAfter': 0.488441429868306, 'contractId': '6caU1Z2qBNtNdmhkAu1y', 'loanAmount': 0, 'probBefore': 0.4981872741398805, 'visibility': 'public', 'createdTime': 1681668739482, 'isCancelled': False, 'isChallenge': False, 'orderAmount': 30, 'isRedemption': False, 'userUsername': 'hmys', 'userAvatarUrl': 'https://firebasestorage.googleapis.com/v0/b/mantic-markets.appspot.com/o/user-images%2Fhmys%2Fl_GIxEu7zp.jpg?alt=media&token=ea1e57bc-3627-4cc7-8959-f3b6e436128a'}\n",
            "Index(['id', 'fees', 'fills', 'amount', 'isAnte', 'shares', 'userId',\n",
            "       'outcome', 'isFilled', 'userName', 'probAfter', 'contractId',\n",
            "       'loanAmount', 'probBefore', 'visibility', 'createdTime', 'isCancelled',\n",
            "       'isChallenge', 'orderAmount', 'isRedemption', 'userUsername',\n",
            "       'userAvatarUrl', 'limitProb', 'isSold', 'expiresAt', 'sale',\n",
            "       'sharesByOutcome'],\n",
            "      dtype='object')\n",
            "new file, first bet:\n",
            "{'id': 'ogkGCt1QQoJGQS5z2Y7g', 'fees': {'creatorFee': 0, 'platformFee': 0, 'liquidityFee': 0}, 'fills': [{'amount': 368.27724954050785, 'shares': 413.79466240506497, 'timestamp': 1680902488455, 'matchedBetId': 'Jtw2RLlxDJe9H3QTFbrT'}, {'amount': 404.54545454545456, 'shares': 454.54545454545456, 'timestamp': 1680902488455, 'matchedBetId': 'UV3yG5ECHiqo3KF2m5r4'}, {'amount': 227.17729591403753, 'shares': 255.2553886674579, 'timestamp': 1680902488455, 'matchedBetId': '0K8KFqxENfYSLgK7a1Bi'}], 'amount': 1000, 'isAnte': False, 'shares': 1123.5955056179776, 'userId': 'dUYoMgTwWINBwgj7HtTJbHdz4Bz1', 'outcome': 'NO', 'isFilled': True, 'userName': 'Alex B. Goode', 'limitProb': 0.11, 'probAfter': 0.11, 'contractId': 'BGuVWAvADayenPOl0r9g', 'loanAmount': 0, 'probBefore': 0.11, 'visibility': 'public', 'createdTime': 1680902488455, 'isCancelled': False, 'isChallenge': False, 'orderAmount': 1000, 'isRedemption': False, 'userUsername': 'AlexbGoode', 'userAvatarUrl': 'https://firebasestorage.googleapis.com/v0/b/mantic-markets.appspot.com/o/user-images%2FAlexbGoode%2F8haBFz8Jtm.webp?alt=media&token=b62403d3-5c60-43f9-843d-e9f8224e3fb7'}\n",
            "Index(['id', 'fees', 'fills', 'amount', 'isAnte', 'shares', 'userId',\n",
            "       'outcome', 'isFilled', 'userName', 'limitProb', 'probAfter',\n",
            "       'contractId', 'loanAmount', 'probBefore', 'visibility', 'createdTime',\n",
            "       'isCancelled', 'isChallenge', 'orderAmount', 'isRedemption',\n",
            "       'userUsername', 'userAvatarUrl', 'sale', 'isSold', 'sharesByOutcome'],\n",
            "      dtype='object')\n",
            "new file, first bet:\n",
            "{'id': 'WEzaaTrnyev8LsrrjWis', 'fees': {'creatorFee': 0, 'platformFee': 0, 'liquidityFee': 0}, 'fills': [{'amount': 100, 'shares': 166.99972709940857, 'timestamp': 1680218336028, 'matchedBetId': None}], 'amount': 100, 'isAnte': False, 'shares': 166.99972709940857, 'userId': 'EJQOCF3MfLTFYbhiKncrNefQDBz1', 'outcome': 'YES', 'isFilled': True, 'userName': 'Chris Billington', 'probAfter': 0.6199867861207986, 'contractId': '7RQeXdYL9YSuVxQ2NBfG', 'loanAmount': 0, 'probBefore': 0.5770381524083437, 'visibility': 'public', 'createdTime': 1680218336028, 'isCancelled': False, 'isChallenge': False, 'orderAmount': 100, 'isRedemption': False, 'userUsername': 'chrisjbillington', 'userAvatarUrl': 'https://firebasestorage.googleapis.com/v0/b/mantic-markets.appspot.com/o/user-images%2FChrisBillington%2FjLc4I6rx5f.jpg?alt=media&token=cbff96f7-53b4-45ec-93fe-df29764eebe6'}\n",
            "Index(['id', 'fees', 'fills', 'amount', 'isAnte', 'shares', 'userId',\n",
            "       'outcome', 'isFilled', 'userName', 'probAfter', 'contractId',\n",
            "       'loanAmount', 'probBefore', 'visibility', 'createdTime', 'isCancelled',\n",
            "       'isChallenge', 'orderAmount', 'isRedemption', 'userUsername',\n",
            "       'userAvatarUrl', 'sale', 'limitProb', 'isSold', 'sharesByOutcome'],\n",
            "      dtype='object')\n",
            "new file, first bet:\n",
            "{'id': 'rZVUCYSKS85yRrwbvTrQ', 'fees': {'creatorFee': 0, 'platformFee': 0, 'liquidityFee': 0}, 'fills': [{'amount': 10, 'shares': 24.942338383575645, 'timestamp': 1679341970173, 'matchedBetId': None}], 'amount': 10, 'isAnte': False, 'shares': 24.942338383575645, 'userId': 'bUf77xAcRWfo33M3stTI3An9PkK2', 'outcome': 'YES', 'isFilled': True, 'userName': 'Erik Weber', 'probAfter': 0.41106111923726, 'contractId': 'sUVbiDenRFllAs8qVWaE', 'loanAmount': 17.781337976930605, 'probBefore': 0.390905662983659, 'visibility': 'public', 'createdTime': 1679341970173, 'isCancelled': False, 'isChallenge': False, 'orderAmount': 10, 'isRedemption': False, 'userUsername': 'ErikWeber', 'userAvatarUrl': 'https://lh3.googleusercontent.com/a/ALm5wu1maaexJOltaYi787nlF9njGvS4DzD5TKxGvdDt4Ts=s96-c'}\n",
            "Index(['id', 'fees', 'fills', 'amount', 'isAnte', 'shares', 'userId',\n",
            "       'outcome', 'isFilled', 'userName', 'probAfter', 'contractId',\n",
            "       'loanAmount', 'probBefore', 'visibility', 'createdTime', 'isCancelled',\n",
            "       'isChallenge', 'orderAmount', 'isRedemption', 'userUsername',\n",
            "       'userAvatarUrl', 'limitProb', 'isSold', 'sale', 'sharesByOutcome'],\n",
            "      dtype='object')\n",
            "new file, first bet:\n",
            "{'id': '4Ckzk2VC7MTyFIdGd54p', 'fees': {'creatorFee': 0, 'platformFee': 0, 'liquidityFee': 0}, 'fills': [{'amount': 10, 'shares': 25.043651879842287, 'timestamp': 1678245274219, 'matchedBetId': None}], 'amount': 10, 'isAnte': False, 'shares': 25.043651879842287, 'userId': 'GPpWQpjHAgPvW3BlsKZf8qhv4yH3', 'outcome': 'NO', 'isFilled': True, 'userName': 'Jonathan Mast', 'probAfter': 0.5929895225189995, 'contractId': 'lct9bd7DLOjqTlf6o4nd', 'loanAmount': 7.024468573078792, 'probBefore': 0.6083405354808844, 'visibility': 'public', 'createdTime': 1678245274220, 'isCancelled': False, 'isChallenge': False, 'orderAmount': 10, 'isRedemption': False, 'userUsername': 'jonmast', 'userAvatarUrl': 'https://firebasestorage.googleapis.com/v0/b/mantic-markets.appspot.com/o/user-images%2FJonathanMast%2FvrBNbxEPtm.16?alt=media&token=48f2b259-c160-4489-bde5-fc76572098e8'}\n",
            "Index(['id', 'fees', 'fills', 'amount', 'isAnte', 'shares', 'userId',\n",
            "       'outcome', 'isFilled', 'userName', 'probAfter', 'contractId',\n",
            "       'loanAmount', 'probBefore', 'visibility', 'createdTime', 'isCancelled',\n",
            "       'isChallenge', 'orderAmount', 'isRedemption', 'userUsername',\n",
            "       'userAvatarUrl', 'isSold', 'limitProb', 'sale', 'sharesByOutcome'],\n",
            "      dtype='object')\n",
            "new file, first bet:\n",
            "{'id': 'cen6ZA8iZBs1S6cmP740', 'fees': {'creatorFee': 0, 'platformFee': 0, 'liquidityFee': 0}, 'amount': 1, 'isAnte': False, 'shares': 14.177446878757825, 'userId': 'HSB5OZ8jBHQZZLjs9oWS7avZTqE3', 'outcome': '1', 'userName': 'Odoacre', 'probAfter': 0.01970395059307911, 'contractId': 'gpJZ310Zinc6vIOZmKTc', 'loanAmount': 0.114157619136, 'probBefore': 0, 'visibility': 'public', 'createdTime': 1677046691312, 'isChallenge': False, 'isRedemption': False, 'userUsername': 'Odoacre', 'userAvatarUrl': 'https://firebasestorage.googleapis.com/v0/b/mantic-markets.appspot.com/o/user-images%2FOdoacre%2Fe8tDh301jg.avatar2?alt=media&token=79f05389-576e-437b-9be9-bda60b4cd21a'}\n",
            "Index(['id', 'fees', 'amount', 'isAnte', 'shares', 'userId', 'outcome',\n",
            "       'userName', 'probAfter', 'contractId', 'loanAmount', 'probBefore',\n",
            "       'visibility', 'createdTime', 'isChallenge', 'isRedemption',\n",
            "       'userUsername', 'userAvatarUrl', 'fills', 'isFilled', 'limitProb',\n",
            "       'isCancelled', 'orderAmount', 'sale', 'isSold', 'sharesByOutcome',\n",
            "       'value', 'allBetAmounts', 'allOutcomeShares'],\n",
            "      dtype='object')\n",
            "new file, first bet:\n",
            "{'id': 'P1kMk3YyzsOXMY0THTCS', 'fees': {'creatorFee': 0, 'platformFee': 0, 'liquidityFee': 0}, 'fills': [{'amount': 77.71335140089491, 'shares': 124.98012146153269, 'timestamp': 1676144789770, 'matchedBetId': None}], 'amount': 77.71335140089491, 'isAnte': False, 'shares': 124.98012146153269, 'userId': 'BhNkw088bMNwIFF2Aq5Gg9NTPzz1', 'outcome': 'YES', 'isFilled': False, 'userName': 'Acceleration', 'limitProb': 0.63, 'probAfter': 0.6299999999999999, 'contractId': 'UDR3i7cK3L1bzpTk064E', 'loanAmount': 0, 'probBefore': 0.6135629985369709, 'visibility': 'public', 'createdTime': 1676144789771, 'isCancelled': True, 'isChallenge': False, 'orderAmount': 100, 'isRedemption': False, 'userUsername': 'acc', 'userAvatarUrl': 'https://firebasestorage.googleapis.com/v0/b/mantic-markets.appspot.com/o/user-images%2FAccelerationBot%2FtGI0YIHNo5.44?alt=media&token=b4b3edf9-839c-4f1f-941e-82b308eedd5e'}\n",
            "Index(['id', 'fees', 'fills', 'amount', 'isAnte', 'shares', 'userId',\n",
            "       'outcome', 'isFilled', 'userName', 'limitProb', 'probAfter',\n",
            "       'contractId', 'loanAmount', 'probBefore', 'visibility', 'createdTime',\n",
            "       'isCancelled', 'isChallenge', 'orderAmount', 'isRedemption',\n",
            "       'userUsername', 'userAvatarUrl', 'sale', 'isSold', 'sharesByOutcome'],\n",
            "      dtype='object')\n",
            "new file, first bet:\n",
            "{'id': 'CGyClVGPI5UBGdzvMDI8', 'fees': {'creatorFee': 0, 'platformFee': 0, 'liquidityFee': 0}, 'fills': [{'amount': 10, 'shares': 21.44156348819638, 'timestamp': 1675273267157, 'matchedBetId': None}], 'amount': 10, 'isAnte': False, 'shares': 21.44156348819638, 'userId': 'GlkDwLmZwTY0s2Ib69yrMm2QtSl2', 'outcome': 'NO', 'isFilled': True, 'userName': 'Pavel', 'probAfter': 0.5317818123682063, 'contractId': 'Zj5agn5qrD9Qsz4k80EW', 'loanAmount': 0, 'probBefore': 0.5354482892454663, 'visibility': 'public', 'createdTime': 1675273267157, 'isCancelled': False, 'isChallenge': False, 'orderAmount': 10, 'isRedemption': False, 'userUsername': 'PavelKuzmenko', 'userAvatarUrl': 'https://lh3.googleusercontent.com/a/AItbvmlaemofgUH4TArxU9sGLcf48jwamH7OKYVih1sh=s96-c'}\n",
            "Index(['id', 'fees', 'fills', 'amount', 'isAnte', 'shares', 'userId',\n",
            "       'outcome', 'isFilled', 'userName', 'probAfter', 'contractId',\n",
            "       'loanAmount', 'probBefore', 'visibility', 'createdTime', 'isCancelled',\n",
            "       'isChallenge', 'orderAmount', 'isRedemption', 'userUsername',\n",
            "       'userAvatarUrl', 'limitProb', 'sale', 'isSold', 'sharesByOutcome'],\n",
            "      dtype='object')\n",
            "new file, first bet:\n",
            "{'id': 'mBnhbAV7CtH4FOfLXEji', 'fees': {'creatorFee': 0, 'platformFee': 0, 'liquidityFee': 0}, 'fills': [{'amount': 13.872738205046154, 'shares': 75.52142432795972, 'timestamp': 1674348085293, 'matchedBetId': None}], 'amount': 13.872738205046154, 'isAnte': False, 'shares': 75.52142432795972, 'userId': 'BhNkw088bMNwIFF2Aq5Gg9NTPzz1', 'outcome': 'YES', 'isFilled': False, 'userName': 'Acceleration', 'limitProb': 0.19, 'probAfter': 0.19, 'contractId': 't6Jd61rbiBd9dRC6gRoD', 'loanAmount': 0, 'probBefore': 0.17757497688589705, 'visibility': 'public', 'createdTime': 1674348085293, 'isCancelled': True, 'isChallenge': False, 'orderAmount': 100, 'isRedemption': False, 'userUsername': 'acc', 'userAvatarUrl': 'https://firebasestorage.googleapis.com/v0/b/mantic-markets.appspot.com/o/user-images%2FAccelerationBot%2FtGI0YIHNo5.44?alt=media&token=b4b3edf9-839c-4f1f-941e-82b308eedd5e'}\n",
            "Index(['id', 'fees', 'fills', 'amount', 'isAnte', 'shares', 'userId',\n",
            "       'outcome', 'isFilled', 'userName', 'limitProb', 'probAfter',\n",
            "       'contractId', 'loanAmount', 'probBefore', 'visibility', 'createdTime',\n",
            "       'isCancelled', 'isChallenge', 'orderAmount', 'isRedemption',\n",
            "       'userUsername', 'userAvatarUrl', 'sale', 'isSold', 'sharesByOutcome'],\n",
            "      dtype='object')\n",
            "new file, first bet:\n",
            "{'id': 'q8YuC4nNsEOhZbc77RqS', 'fees': {'creatorFee': 0, 'platformFee': 0, 'liquidityFee': 0}, 'fills': [{'amount': 20, 'shares': 31.652679289272783, 'timestamp': 1673308494622, 'matchedBetId': None}], 'amount': 20, 'isAnte': False, 'shares': 31.652679289272783, 'userId': 'GGUz5uw0zmPzXAZ2b2hPsDS7Mos1', 'outcome': 'YES', 'isFilled': True, 'userName': 'Bets By Anon', 'probAfter': 0.6337565005023397, 'contractId': 'YBxwKfe5eY2Ynw1ACGYI', 'loanAmount': 0, 'probBefore': 0.6299553822559534, 'visibility': 'public', 'createdTime': 1673308494622, 'isCancelled': False, 'isChallenge': False, 'orderAmount': 20, 'isRedemption': False, 'userUsername': 'BetsByAnon', 'userAvatarUrl': 'https://firebasestorage.googleapis.com/v0/b/mantic-markets.appspot.com/o/user-images%2FBetsByAnon%2Fur8757MpUy.jpg?alt=media&token=bba2f63b-dcc6-431a-889a-366717aaeee0'}\n",
            "Index(['id', 'fees', 'fills', 'amount', 'isAnte', 'shares', 'userId',\n",
            "       'outcome', 'isFilled', 'userName', 'probAfter', 'contractId',\n",
            "       'loanAmount', 'probBefore', 'visibility', 'createdTime', 'isCancelled',\n",
            "       'isChallenge', 'orderAmount', 'isRedemption', 'userUsername',\n",
            "       'userAvatarUrl', 'isSold', 'limitProb', 'sale', 'sharesByOutcome'],\n",
            "      dtype='object')\n",
            "new file, first bet:\n",
            "{'id': 'vfTzwG9VgQvZo8ViuHKl', 'fees': {'creatorFee': 0, 'platformFee': 0, 'liquidityFee': 0}, 'fills': [{'amount': -32.455482469495934, 'isSale': True, 'shares': -113.69065381501662, 'timestamp': 1672601353108, 'matchedBetId': None}], 'amount': -32.455482469495934, 'isAnte': False, 'shares': -113.69065381501662, 'userId': 'FzpgR5aK88WvlbER2dKykybnDn42', 'outcome': 'YES', 'isFilled': True, 'userName': 'Rationaleviussy⠀⠀', 'probAfter': 0.1905436614694853, 'contractId': '4UvgKtw4RIwWZIvdR0KL', 'loanAmount': 0, 'probBefore': 0.4051172507006619, 'visibility': 'public', 'createdTime': 1672601353109, 'isCancelled': False, 'isChallenge': False, 'orderAmount': -32.455482469495934, 'isRedemption': False, 'userUsername': 'levifinkelstein', 'userAvatarUrl': 'https://firebasestorage.googleapis.com/v0/b/mantic-markets.appspot.com/o/user-images%2Flevifinkelstein%2Fi2pjOTifAX.jpg?alt=media&token=f2e021c2-03d7-45fc-a6c3-b2b89af24342'}\n",
            "Index(['id', 'fees', 'fills', 'amount', 'isAnte', 'shares', 'userId',\n",
            "       'outcome', 'isFilled', 'userName', 'probAfter', 'contractId',\n",
            "       'loanAmount', 'probBefore', 'visibility', 'createdTime', 'isCancelled',\n",
            "       'isChallenge', 'orderAmount', 'isRedemption', 'userUsername',\n",
            "       'userAvatarUrl', 'sale', 'limitProb', 'isSold', 'value',\n",
            "       'allBetAmounts', 'allOutcomeShares', 'challengeSlug',\n",
            "       'sharesByOutcome'],\n",
            "      dtype='object')\n",
            "new file, first bet:\n",
            "{'id': 'rK73XJC40RoiBN4LGOKh', 'fees': {'creatorFee': 0, 'platformFee': 0, 'liquidityFee': 0}, 'fills': [{'amount': 20, 'shares': 84.82801182434059, 'timestamp': 1691155816689, 'matchedBetId': None}], 'isApi': False, 'amount': 20, 'isAnte': False, 'shares': 84.82801182434059, 'userId': 'uIA81X2m3aVLEl1DqDBJfR1nJ0n2', 'outcome': 'YES', 'isFilled': True, 'userName': 'Nico D', 'probAfter': 0.23940872742690147, 'contractId': 'H8pfYi1AeXKPdQQxEvYW', 'loanAmount': 0, 'probBefore': 0.23217705074259182, 'visibility': 'public', 'createdTime': 1691155816689, 'isCancelled': False, 'isChallenge': False, 'orderAmount': 20, 'isRedemption': False, 'userUsername': 'NicoDelon', 'userAvatarUrl': 'https://firebasestorage.googleapis.com/v0/b/mantic-markets.appspot.com/o/user-images%2FNicoDelon%2Fh6Vld97Fp-.jpeg?alt=media&token=486dcd13-fd89-4956-a47c-4552a60faf29'}\n",
            "Index(['id', 'fees', 'fills', 'isApi', 'amount', 'isAnte', 'shares', 'userId',\n",
            "       'outcome', 'isFilled', 'userName', 'probAfter', 'contractId',\n",
            "       'loanAmount', 'probBefore', 'visibility', 'createdTime', 'isCancelled',\n",
            "       'isChallenge', 'orderAmount', 'isRedemption', 'userUsername',\n",
            "       'userAvatarUrl', 'limitProb', 'answerId', 'expiresAt', 'sale',\n",
            "       'isSold'],\n",
            "      dtype='object')\n",
            "new file, first bet:\n",
            "{'id': 'AxVG5dx3csJPGiIqc5kH', 'fees': {'creatorFee': 0, 'platformFee': 0, 'liquidityFee': 0}, 'fills': [{'amount': 1, 'shares': 2.2146430608642333, 'timestamp': 1690965636239, 'matchedBetId': None}], 'isApi': False, 'amount': 1, 'isAnte': False, 'shares': 2.2146430608642333, 'userId': 'B4vKNylnJpQH2GZRGrg6gFKMEWB3', 'outcome': 'YES', 'isFilled': True, 'userName': '1411_32기서지혁', 'probAfter': 0.45308102460229677, 'contractId': 'MUiZX9cHXXVrHygYvKYM', 'loanAmount': 0, 'probBefore': 0.4499999999999996, 'visibility': 'public', 'createdTime': 1690965636239, 'isCancelled': False, 'isChallenge': False, 'orderAmount': 1, 'isRedemption': False, 'userUsername': '1411_32', 'userAvatarUrl': 'https://lh3.googleusercontent.com/a/AAcHTtdLC_s2tKHtIznJgLolp0gR0MggDhLh6gSfWlJFJVqj=s96-c'}\n",
            "Index(['id', 'fees', 'fills', 'isApi', 'amount', 'isAnte', 'shares', 'userId',\n",
            "       'outcome', 'isFilled', 'userName', 'probAfter', 'contractId',\n",
            "       'loanAmount', 'probBefore', 'visibility', 'createdTime', 'isCancelled',\n",
            "       'isChallenge', 'orderAmount', 'isRedemption', 'userUsername',\n",
            "       'userAvatarUrl', 'answerId', 'expiresAt', 'limitProb', 'isSold',\n",
            "       'sale'],\n",
            "      dtype='object')\n"
          ]
        }
      ]
    },
    {
      "cell_type": "code",
      "source": [
        "bets_df.info()"
      ],
      "metadata": {
        "colab": {
          "base_uri": "https://localhost:8080/"
        },
        "id": "-xUmy421wR45",
        "outputId": "833634a4-0b02-4a48-ec54-ca8a3464a361"
      },
      "execution_count": 80,
      "outputs": [
        {
          "output_type": "stream",
          "name": "stdout",
          "text": [
            "<class 'pandas.core.frame.DataFrame'>\n",
            "RangeIndex: 180869 entries, 0 to 180868\n",
            "Data columns (total 14 columns):\n",
            " #   Column       Non-Null Count   Dtype  \n",
            "---  ------       --------------   -----  \n",
            " 0   id           180869 non-null  object \n",
            " 1   createdTime  180869 non-null  int64  \n",
            " 2   userId       180869 non-null  object \n",
            " 3   contractId   180869 non-null  object \n",
            " 4   amount       180869 non-null  float64\n",
            " 5   shares       180869 non-null  float64\n",
            " 6   outcome      180869 non-null  object \n",
            " 7   visibility   180869 non-null  object \n",
            " 8   isFilled     160439 non-null  object \n",
            " 9   isCancelled  160439 non-null  object \n",
            " 10  isChallenge  180869 non-null  bool   \n",
            " 11  orderAmount  159784 non-null  float64\n",
            " 12  probBefore   180869 non-null  float64\n",
            " 13  probAfter    180869 non-null  float64\n",
            "dtypes: bool(1), float64(5), int64(1), object(7)\n",
            "memory usage: 18.1+ MB\n"
          ]
        }
      ]
    }
  ]
}