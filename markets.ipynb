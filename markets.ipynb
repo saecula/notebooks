{
  "nbformat": 4,
  "nbformat_minor": 0,
  "metadata": {
    "colab": {
      "provenance": [],
      "mount_file_id": "17OVvO3-hrWKl7TGH9en-raV1FVqHw2vQ",
      "authorship_tag": "ABX9TyM5UpVraU8m0XVnkCmoAItx",
      "include_colab_link": true
    },
    "kernelspec": {
      "name": "python3",
      "display_name": "Python 3"
    },
    "language_info": {
      "name": "python"
    }
  },
  "cells": [
    {
      "cell_type": "markdown",
      "metadata": {
        "id": "view-in-github",
        "colab_type": "text"
      },
      "source": [
        "<a href=\"https://colab.research.google.com/github/saecula/notebooks/blob/main/markets.ipynb\" target=\"_parent\"><img src=\"https://colab.research.google.com/assets/colab-badge.svg\" alt=\"Open In Colab\"/></a>"
      ]
    },
    {
      "cell_type": "code",
      "execution_count": null,
      "metadata": {
        "id": "QxHCcfMrBRvw"
      },
      "outputs": [],
      "source": [
        "import pandas as pd;"
      ]
    },
    {
      "cell_type": "code",
      "source": [
        "df = pd.read_csv('/content/drive/MyDrive/data/manifold/markets.csv');"
      ],
      "metadata": {
        "id": "B9AuQPGZBsdq"
      },
      "execution_count": null,
      "outputs": []
    },
    {
      "cell_type": "code",
      "source": [
        "pd.options.display.max_columns = None\n",
        "print(df.head())"
      ],
      "metadata": {
        "id": "OE2Ytye1CDvA"
      },
      "execution_count": null,
      "outputs": []
    },
    {
      "cell_type": "code",
      "source": [
        "# format\n",
        "pd.options.display.float_format = '{:.0f}'.format\n",
        "\n",
        "df['totalLiquidity'] = pd.to_numeric(df['totalLiquidity'], errors='coerce')\n",
        "df['volume'] = pd.to_numeric(df['volume'], errors='coerce')\n",
        "df['pool_yes'] = pd.to_numeric(df['pool_yes'], errors='coerce')\n",
        "df['pool_no'] = pd.to_numeric(df['pool_yes'], errors='coerce')\n",
        "\n",
        "print('info', df.info())"
      ],
      "metadata": {
        "id": "9iv3TMDvTQgV"
      },
      "execution_count": null,
      "outputs": []
    },
    {
      "cell_type": "code",
      "source": [
        "# filter\n",
        "\n",
        "# filtered_df = df[df['field'] == 'value']\n",
        "\n",
        "january_2023_to_june_2023 = df[(df['createdTime'] >= '2023-01-01') & (df['createdTime'] <= '2023-06-30')]\n",
        "outcometype_binary = january_2023_to_june_2023[january_2023_to_june_2023['outcomeType'] == 'BINARY']\n",
        "\n",
        "activity = outcometype_binary[['id', 'totalLiquidity', 'volume', 'pool_yes', 'pool_no']]\n",
        "\n",
        "\n",
        "print('stats:')\n",
        "print(activity.describe())\n",
        "\n",
        "markets = activity[activity['volume'] > 100] # caps at 999?\n",
        "\n",
        "print('active markets:')\n",
        "print(markets.describe())"
      ],
      "metadata": {
        "id": "DNGU2CNHo0nN"
      },
      "execution_count": null,
      "outputs": []
    },
    {
      "cell_type": "code",
      "source": [
        "import matplotlib.pyplot as plt\n",
        "import datetime"
      ],
      "metadata": {
        "id": "D_CFWNWiDCXh"
      },
      "execution_count": null,
      "outputs": []
    },
    {
      "cell_type": "code",
      "source": [
        "# a date histogram showing markets by createdTime, bucketed in 30-day increments.\n",
        "\n",
        "df['createdTime'] = pd.to_datetime(df['createdTime'], unit='ms')\n",
        "df['createdTime_seconds'] = df['createdTime'].apply(lambda x: x.timestamp())\n",
        "df['createdTime_bucket'] = (df['createdTime_seconds'] // (3600*24*30)).astype(int)\n",
        "\n",
        "# Create a PeriodIndex for the x-axis to show human-readable month labels\n",
        "period_index = pd.period_range(start=df['createdTime'].min().normalize(),\n",
        "                               end=df['createdTime'].max().normalize(),\n",
        "                               freq='M')\n",
        "\n",
        "# Plot the data\n",
        "df.groupby('createdTime_bucket')['id'].count().plot(kind='bar')\n",
        "\n",
        "# Set the x-axis tick labels\n",
        "plt.xticks(range(len(period_index)), period_index.to_timestamp().strftime('%b %y'))\n",
        "\n",
        "plt.xlabel('Created Time (30-day buckets)')\n",
        "plt.ylabel('Number of Markets')\n",
        "plt.show()\n"
      ],
      "metadata": {
        "collapsed": true,
        "id": "WrgR86idDdnF"
      },
      "execution_count": null,
      "outputs": []
    },
    {
      "cell_type": "code",
      "source": [
        "# plot distribution\n",
        "\n",
        "volume = markets['volume']\n",
        "plt.hist(volume, bins=50)\n",
        "plt.xlabel('Total Volume')\n",
        "plt.ylabel('Frequency')\n",
        "plt.show()\n"
      ],
      "metadata": {
        "collapsed": true,
        "id": "XKYUFO_ROEW1"
      },
      "execution_count": null,
      "outputs": []
    },
    {
      "cell_type": "code",
      "source": [
        "import json\n",
        "import os"
      ],
      "metadata": {
        "id": "7XFOczURmRB4"
      },
      "execution_count": null,
      "outputs": []
    },
    {
      "cell_type": "code",
      "source": [
        "json_dir = '/content/drive/MyDrive/data/manifold/bets'\n",
        "\n",
        "market_ids = markets['id'].tolist()\n",
        "\n",
        "columns_to_include = ['id', 'createdTime', 'userId', 'contractId', 'amount', 'shares', 'outcome', 'visibility', 'isFilled', 'isCancelled', 'isChallenge', 'orderAmount', 'probBefore', 'probAfter']\n",
        "\n",
        "def load_bets_from_json(file_path, ids):\n",
        "    with open(file_path, 'r') as f:\n",
        "        bets_json = json.load(f)\n",
        "\n",
        "    # print first bet\n",
        "    print('new file, first bet:')\n",
        "    print(bets_json[0])\n",
        "\n",
        "    df_raw = pd.DataFrame(bets_json)\n",
        "\n",
        "    print(df_raw.columns)\n",
        "\n",
        "    df_bets = df_raw[columns_to_include]\n",
        "    df_market_filtered = df_bets[df_bets['contractId'].isin(ids)]\n",
        "    return df_market_filtered\n",
        "\n",
        "# load files that end with json and contain string '2023'\n",
        "bets_dfs = []\n",
        "for file in os.listdir(json_dir):\n",
        "    if file.endswith('.json') and '2023' in file:\n",
        "        file_path = os.path.join(json_dir, file)\n",
        "        bets_df = load_bets_from_json(file_path, market_ids)\n",
        "        bets_dfs.append(bets_df)\n",
        "\n",
        "bets_df = pd.concat(bets_dfs, ignore_index=True)"
      ],
      "metadata": {
        "collapsed": true,
        "id": "KRaz7QZFms9Y"
      },
      "execution_count": null,
      "outputs": []
    },
    {
      "cell_type": "code",
      "source": [
        "bets_df.info()"
      ],
      "metadata": {
        "id": "-xUmy421wR45"
      },
      "execution_count": null,
      "outputs": []
    }
  ]
}